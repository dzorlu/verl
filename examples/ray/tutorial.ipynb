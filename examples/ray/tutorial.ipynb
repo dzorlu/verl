{
  "cells": [
    {
      "cell_type": "markdown",
      "id": "0ddc582b",
      "metadata": {
        "id": "0ddc582b"
      },
      "source": [
        "# VeRL Ray API Tutorial"
      ]
    },
    {
      "cell_type": "markdown",
      "id": "71fe3b94",
      "metadata": {
        "id": "71fe3b94"
      },
      "source": [
        "## Chapter 1: Ray Basics"
      ]
    },
    {
      "cell_type": "code",
      "execution_count": 14,
      "id": "1347d381",
      "metadata": {
        "tags": [],
        "id": "1347d381",
        "outputId": "a6a940e2-0cc5-4b7d-9b71-95e226f6fa70",
        "colab": {
          "base_uri": "https://localhost:8080/",
          "height": 1000
        }
      },
      "outputs": [
        {
          "output_type": "stream",
          "name": "stdout",
          "text": [
            "Requirement already satisfied: ray in /usr/local/lib/python3.12/dist-packages (2.49.2)\n",
            "Requirement already satisfied: click>=7.0 in /usr/local/lib/python3.12/dist-packages (from ray) (8.2.1)\n",
            "Requirement already satisfied: filelock in /usr/local/lib/python3.12/dist-packages (from ray) (3.19.1)\n",
            "Requirement already satisfied: jsonschema in /usr/local/lib/python3.12/dist-packages (from ray) (4.25.1)\n",
            "Requirement already satisfied: msgpack<2.0.0,>=1.0.0 in /usr/local/lib/python3.12/dist-packages (from ray) (1.1.1)\n",
            "Requirement already satisfied: packaging in /usr/local/lib/python3.12/dist-packages (from ray) (25.0)\n",
            "Requirement already satisfied: protobuf>=3.20.3 in /usr/local/lib/python3.12/dist-packages (from ray) (5.29.5)\n",
            "Requirement already satisfied: pyyaml in /usr/local/lib/python3.12/dist-packages (from ray) (6.0.2)\n",
            "Requirement already satisfied: requests in /usr/local/lib/python3.12/dist-packages (from ray) (2.32.4)\n",
            "Requirement already satisfied: attrs>=22.2.0 in /usr/local/lib/python3.12/dist-packages (from jsonschema->ray) (25.3.0)\n",
            "Requirement already satisfied: jsonschema-specifications>=2023.03.6 in /usr/local/lib/python3.12/dist-packages (from jsonschema->ray) (2025.9.1)\n",
            "Requirement already satisfied: referencing>=0.28.4 in /usr/local/lib/python3.12/dist-packages (from jsonschema->ray) (0.36.2)\n",
            "Requirement already satisfied: rpds-py>=0.7.1 in /usr/local/lib/python3.12/dist-packages (from jsonschema->ray) (0.27.1)\n",
            "Requirement already satisfied: charset_normalizer<4,>=2 in /usr/local/lib/python3.12/dist-packages (from requests->ray) (3.4.3)\n",
            "Requirement already satisfied: idna<4,>=2.5 in /usr/local/lib/python3.12/dist-packages (from requests->ray) (3.10)\n",
            "Requirement already satisfied: urllib3<3,>=1.21.1 in /usr/local/lib/python3.12/dist-packages (from requests->ray) (2.5.0)\n",
            "Requirement already satisfied: certifi>=2017.4.17 in /usr/local/lib/python3.12/dist-packages (from requests->ray) (2025.8.3)\n",
            "Requirement already satisfied: typing-extensions>=4.4.0 in /usr/local/lib/python3.12/dist-packages (from referencing>=0.28.4->jsonschema->ray) (4.15.0)\n",
            "Collecting verl\n",
            "  Downloading verl-0.5.0-py2.py3-none-any.whl.metadata (27 kB)\n",
            "Requirement already satisfied: accelerate in /usr/local/lib/python3.12/dist-packages (from verl) (1.10.1)\n",
            "Collecting codetiming (from verl)\n",
            "  Downloading codetiming-1.4.0-py3-none-any.whl.metadata (7.7 kB)\n",
            "Requirement already satisfied: datasets in /usr/local/lib/python3.12/dist-packages (from verl) (4.0.0)\n",
            "Requirement already satisfied: dill in /usr/local/lib/python3.12/dist-packages (from verl) (0.3.8)\n",
            "Collecting hydra-core (from verl)\n",
            "  Downloading hydra_core-1.3.2-py3-none-any.whl.metadata (5.5 kB)\n",
            "Collecting numpy<2.0.0 (from verl)\n",
            "  Downloading numpy-1.26.4-cp312-cp312-manylinux_2_17_x86_64.manylinux2014_x86_64.whl.metadata (61 kB)\n",
            "\u001b[2K     \u001b[90m━━━━━━━━━━━━━━━━━━━━━━━━━━━━━━━━━━━━━━━━\u001b[0m \u001b[32m61.0/61.0 kB\u001b[0m \u001b[31m5.0 MB/s\u001b[0m eta \u001b[36m0:00:00\u001b[0m\n",
            "\u001b[?25hRequirement already satisfied: pandas in /usr/local/lib/python3.12/dist-packages (from verl) (2.2.2)\n",
            "Requirement already satisfied: peft in /usr/local/lib/python3.12/dist-packages (from verl) (0.17.1)\n",
            "Collecting pyarrow>=19.0.0 (from verl)\n",
            "  Downloading pyarrow-21.0.0-cp312-cp312-manylinux_2_28_x86_64.whl.metadata (3.3 kB)\n",
            "Collecting pybind11 (from verl)\n",
            "  Downloading pybind11-3.0.1-py3-none-any.whl.metadata (10.0 kB)\n",
            "Collecting pylatexenc (from verl)\n",
            "  Downloading pylatexenc-2.10.tar.gz (162 kB)\n",
            "\u001b[2K     \u001b[90m━━━━━━━━━━━━━━━━━━━━━━━━━━━━━━━━━━━━━━━\u001b[0m \u001b[32m162.6/162.6 kB\u001b[0m \u001b[31m9.9 MB/s\u001b[0m eta \u001b[36m0:00:00\u001b[0m\n",
            "\u001b[?25h  Preparing metadata (setup.py) ... \u001b[?25l\u001b[?25hdone\n",
            "Requirement already satisfied: ray>=2.41.0 in /usr/local/lib/python3.12/dist-packages (from ray[default]>=2.41.0->verl) (2.49.2)\n",
            "Requirement already satisfied: torchdata in /usr/local/lib/python3.12/dist-packages (from verl) (0.11.0)\n",
            "Collecting tensordict!=0.9.0,<=0.9.1,>=0.8.0 (from verl)\n",
            "  Downloading tensordict-0.9.1-cp312-cp312-manylinux_2_28_x86_64.whl.metadata (9.3 kB)\n",
            "Requirement already satisfied: transformers in /usr/local/lib/python3.12/dist-packages (from verl) (4.56.1)\n",
            "Requirement already satisfied: wandb in /usr/local/lib/python3.12/dist-packages (from verl) (0.21.4)\n",
            "Requirement already satisfied: packaging>=20.0 in /usr/local/lib/python3.12/dist-packages (from verl) (25.0)\n",
            "Requirement already satisfied: click>=7.0 in /usr/local/lib/python3.12/dist-packages (from ray>=2.41.0->ray[default]>=2.41.0->verl) (8.2.1)\n",
            "Requirement already satisfied: filelock in /usr/local/lib/python3.12/dist-packages (from ray>=2.41.0->ray[default]>=2.41.0->verl) (3.19.1)\n",
            "Requirement already satisfied: jsonschema in /usr/local/lib/python3.12/dist-packages (from ray>=2.41.0->ray[default]>=2.41.0->verl) (4.25.1)\n",
            "Requirement already satisfied: msgpack<2.0.0,>=1.0.0 in /usr/local/lib/python3.12/dist-packages (from ray>=2.41.0->ray[default]>=2.41.0->verl) (1.1.1)\n",
            "Requirement already satisfied: protobuf>=3.20.3 in /usr/local/lib/python3.12/dist-packages (from ray>=2.41.0->ray[default]>=2.41.0->verl) (5.29.5)\n",
            "Requirement already satisfied: pyyaml in /usr/local/lib/python3.12/dist-packages (from ray>=2.41.0->ray[default]>=2.41.0->verl) (6.0.2)\n",
            "Requirement already satisfied: requests in /usr/local/lib/python3.12/dist-packages (from ray>=2.41.0->ray[default]>=2.41.0->verl) (2.32.4)\n",
            "Requirement already satisfied: aiohttp>=3.7 in /usr/local/lib/python3.12/dist-packages (from ray[default]>=2.41.0->verl) (3.12.15)\n",
            "Collecting aiohttp_cors (from ray[default]>=2.41.0->verl)\n",
            "  Downloading aiohttp_cors-0.8.1-py3-none-any.whl.metadata (20 kB)\n",
            "Collecting colorful (from ray[default]>=2.41.0->verl)\n",
            "  Downloading colorful-0.5.7-py2.py3-none-any.whl.metadata (16 kB)\n",
            "Collecting py-spy>=0.4.0 (from ray[default]>=2.41.0->verl)\n",
            "  Downloading py_spy-0.4.1-py2.py3-none-manylinux_2_5_x86_64.manylinux1_x86_64.whl.metadata (510 bytes)\n",
            "Requirement already satisfied: grpcio>=1.42.0 in /usr/local/lib/python3.12/dist-packages (from ray[default]>=2.41.0->verl) (1.75.0)\n",
            "Collecting opencensus (from ray[default]>=2.41.0->verl)\n",
            "  Downloading opencensus-0.11.4-py2.py3-none-any.whl.metadata (12 kB)\n",
            "Requirement already satisfied: opentelemetry-sdk>=1.30.0 in /usr/local/lib/python3.12/dist-packages (from ray[default]>=2.41.0->verl) (1.37.0)\n",
            "Collecting opentelemetry-exporter-prometheus (from ray[default]>=2.41.0->verl)\n",
            "  Downloading opentelemetry_exporter_prometheus-0.58b0-py3-none-any.whl.metadata (2.1 kB)\n",
            "Collecting opentelemetry-proto (from ray[default]>=2.41.0->verl)\n",
            "  Downloading opentelemetry_proto-1.37.0-py3-none-any.whl.metadata (2.3 kB)\n",
            "Requirement already satisfied: pydantic!=2.0.*,!=2.1.*,!=2.2.*,!=2.3.*,!=2.4.*,<3 in /usr/local/lib/python3.12/dist-packages (from ray[default]>=2.41.0->verl) (2.11.9)\n",
            "Requirement already satisfied: prometheus_client>=0.7.1 in /usr/local/lib/python3.12/dist-packages (from ray[default]>=2.41.0->verl) (0.22.1)\n",
            "Requirement already satisfied: smart_open in /usr/local/lib/python3.12/dist-packages (from ray[default]>=2.41.0->verl) (7.3.1)\n",
            "Collecting virtualenv!=20.21.1,>=20.0.24 (from ray[default]>=2.41.0->verl)\n",
            "  Downloading virtualenv-20.34.0-py3-none-any.whl.metadata (4.6 kB)\n",
            "Requirement already satisfied: torch in /usr/local/lib/python3.12/dist-packages (from tensordict!=0.9.0,<=0.9.1,>=0.8.0->verl) (2.8.0+cu126)\n",
            "Requirement already satisfied: cloudpickle in /usr/local/lib/python3.12/dist-packages (from tensordict!=0.9.0,<=0.9.1,>=0.8.0->verl) (3.1.1)\n",
            "Requirement already satisfied: importlib_metadata in /usr/local/lib/python3.12/dist-packages (from tensordict!=0.9.0,<=0.9.1,>=0.8.0->verl) (8.7.0)\n",
            "Requirement already satisfied: orjson in /usr/local/lib/python3.12/dist-packages (from tensordict!=0.9.0,<=0.9.1,>=0.8.0->verl) (3.11.3)\n",
            "Collecting pyvers<0.2.0,>=0.1.0 (from tensordict!=0.9.0,<=0.9.1,>=0.8.0->verl)\n",
            "  Downloading pyvers-0.1.0-py3-none-any.whl.metadata (5.4 kB)\n",
            "Requirement already satisfied: psutil in /usr/local/lib/python3.12/dist-packages (from accelerate->verl) (5.9.5)\n",
            "Requirement already satisfied: huggingface_hub>=0.21.0 in /usr/local/lib/python3.12/dist-packages (from accelerate->verl) (0.35.0)\n",
            "Requirement already satisfied: safetensors>=0.4.3 in /usr/local/lib/python3.12/dist-packages (from accelerate->verl) (0.6.2)\n",
            "Requirement already satisfied: tqdm>=4.66.3 in /usr/local/lib/python3.12/dist-packages (from datasets->verl) (4.67.1)\n",
            "Requirement already satisfied: xxhash in /usr/local/lib/python3.12/dist-packages (from datasets->verl) (3.5.0)\n",
            "Requirement already satisfied: multiprocess<0.70.17 in /usr/local/lib/python3.12/dist-packages (from datasets->verl) (0.70.16)\n",
            "Requirement already satisfied: fsspec<=2025.3.0,>=2023.1.0 in /usr/local/lib/python3.12/dist-packages (from fsspec[http]<=2025.3.0,>=2023.1.0->datasets->verl) (2025.3.0)\n",
            "Requirement already satisfied: omegaconf<2.4,>=2.2 in /usr/local/lib/python3.12/dist-packages (from hydra-core->verl) (2.3.0)\n",
            "Requirement already satisfied: antlr4-python3-runtime==4.9.* in /usr/local/lib/python3.12/dist-packages (from hydra-core->verl) (4.9.3)\n",
            "Requirement already satisfied: python-dateutil>=2.8.2 in /usr/local/lib/python3.12/dist-packages (from pandas->verl) (2.9.0.post0)\n",
            "Requirement already satisfied: pytz>=2020.1 in /usr/local/lib/python3.12/dist-packages (from pandas->verl) (2025.2)\n",
            "Requirement already satisfied: tzdata>=2022.7 in /usr/local/lib/python3.12/dist-packages (from pandas->verl) (2025.2)\n",
            "Requirement already satisfied: urllib3>=1.25 in /usr/local/lib/python3.12/dist-packages (from torchdata->verl) (2.5.0)\n",
            "Requirement already satisfied: regex!=2019.12.17 in /usr/local/lib/python3.12/dist-packages (from transformers->verl) (2024.11.6)\n",
            "Requirement already satisfied: tokenizers<=0.23.0,>=0.22.0 in /usr/local/lib/python3.12/dist-packages (from transformers->verl) (0.22.0)\n",
            "Requirement already satisfied: gitpython!=3.1.29,>=1.0.0 in /usr/local/lib/python3.12/dist-packages (from wandb->verl) (3.1.45)\n",
            "Requirement already satisfied: platformdirs in /usr/local/lib/python3.12/dist-packages (from wandb->verl) (4.4.0)\n",
            "Requirement already satisfied: sentry-sdk>=2.0.0 in /usr/local/lib/python3.12/dist-packages (from wandb->verl) (2.38.0)\n",
            "Requirement already satisfied: typing-extensions<5,>=4.8 in /usr/local/lib/python3.12/dist-packages (from wandb->verl) (4.15.0)\n",
            "Requirement already satisfied: aiohappyeyeballs>=2.5.0 in /usr/local/lib/python3.12/dist-packages (from aiohttp>=3.7->ray[default]>=2.41.0->verl) (2.6.1)\n",
            "Requirement already satisfied: aiosignal>=1.4.0 in /usr/local/lib/python3.12/dist-packages (from aiohttp>=3.7->ray[default]>=2.41.0->verl) (1.4.0)\n",
            "Requirement already satisfied: attrs>=17.3.0 in /usr/local/lib/python3.12/dist-packages (from aiohttp>=3.7->ray[default]>=2.41.0->verl) (25.3.0)\n",
            "Requirement already satisfied: frozenlist>=1.1.1 in /usr/local/lib/python3.12/dist-packages (from aiohttp>=3.7->ray[default]>=2.41.0->verl) (1.7.0)\n",
            "Requirement already satisfied: multidict<7.0,>=4.5 in /usr/local/lib/python3.12/dist-packages (from aiohttp>=3.7->ray[default]>=2.41.0->verl) (6.6.4)\n",
            "Requirement already satisfied: propcache>=0.2.0 in /usr/local/lib/python3.12/dist-packages (from aiohttp>=3.7->ray[default]>=2.41.0->verl) (0.3.2)\n",
            "Requirement already satisfied: yarl<2.0,>=1.17.0 in /usr/local/lib/python3.12/dist-packages (from aiohttp>=3.7->ray[default]>=2.41.0->verl) (1.20.1)\n",
            "Requirement already satisfied: gitdb<5,>=4.0.1 in /usr/local/lib/python3.12/dist-packages (from gitpython!=3.1.29,>=1.0.0->wandb->verl) (4.0.12)\n",
            "Requirement already satisfied: hf-xet<2.0.0,>=1.1.3 in /usr/local/lib/python3.12/dist-packages (from huggingface_hub>=0.21.0->accelerate->verl) (1.1.10)\n",
            "Requirement already satisfied: opentelemetry-api==1.37.0 in /usr/local/lib/python3.12/dist-packages (from opentelemetry-sdk>=1.30.0->ray[default]>=2.41.0->verl) (1.37.0)\n",
            "Requirement already satisfied: opentelemetry-semantic-conventions==0.58b0 in /usr/local/lib/python3.12/dist-packages (from opentelemetry-sdk>=1.30.0->ray[default]>=2.41.0->verl) (0.58b0)\n",
            "Requirement already satisfied: zipp>=3.20 in /usr/local/lib/python3.12/dist-packages (from importlib_metadata->tensordict!=0.9.0,<=0.9.1,>=0.8.0->verl) (3.23.0)\n",
            "Requirement already satisfied: annotated-types>=0.6.0 in /usr/local/lib/python3.12/dist-packages (from pydantic!=2.0.*,!=2.1.*,!=2.2.*,!=2.3.*,!=2.4.*,<3->ray[default]>=2.41.0->verl) (0.7.0)\n",
            "Requirement already satisfied: pydantic-core==2.33.2 in /usr/local/lib/python3.12/dist-packages (from pydantic!=2.0.*,!=2.1.*,!=2.2.*,!=2.3.*,!=2.4.*,<3->ray[default]>=2.41.0->verl) (2.33.2)\n",
            "Requirement already satisfied: typing-inspection>=0.4.0 in /usr/local/lib/python3.12/dist-packages (from pydantic!=2.0.*,!=2.1.*,!=2.2.*,!=2.3.*,!=2.4.*,<3->ray[default]>=2.41.0->verl) (0.4.1)\n",
            "Requirement already satisfied: six>=1.5 in /usr/local/lib/python3.12/dist-packages (from python-dateutil>=2.8.2->pandas->verl) (1.17.0)\n",
            "Requirement already satisfied: charset_normalizer<4,>=2 in /usr/local/lib/python3.12/dist-packages (from requests->ray>=2.41.0->ray[default]>=2.41.0->verl) (3.4.3)\n",
            "Requirement already satisfied: idna<4,>=2.5 in /usr/local/lib/python3.12/dist-packages (from requests->ray>=2.41.0->ray[default]>=2.41.0->verl) (3.10)\n",
            "Requirement already satisfied: certifi>=2017.4.17 in /usr/local/lib/python3.12/dist-packages (from requests->ray>=2.41.0->ray[default]>=2.41.0->verl) (2025.8.3)\n",
            "Requirement already satisfied: setuptools in /usr/local/lib/python3.12/dist-packages (from torch->tensordict!=0.9.0,<=0.9.1,>=0.8.0->verl) (75.2.0)\n",
            "Requirement already satisfied: sympy>=1.13.3 in /usr/local/lib/python3.12/dist-packages (from torch->tensordict!=0.9.0,<=0.9.1,>=0.8.0->verl) (1.13.3)\n",
            "Requirement already satisfied: networkx in /usr/local/lib/python3.12/dist-packages (from torch->tensordict!=0.9.0,<=0.9.1,>=0.8.0->verl) (3.5)\n",
            "Requirement already satisfied: jinja2 in /usr/local/lib/python3.12/dist-packages (from torch->tensordict!=0.9.0,<=0.9.1,>=0.8.0->verl) (3.1.6)\n",
            "Requirement already satisfied: nvidia-cuda-nvrtc-cu12==12.6.77 in /usr/local/lib/python3.12/dist-packages (from torch->tensordict!=0.9.0,<=0.9.1,>=0.8.0->verl) (12.6.77)\n",
            "Requirement already satisfied: nvidia-cuda-runtime-cu12==12.6.77 in /usr/local/lib/python3.12/dist-packages (from torch->tensordict!=0.9.0,<=0.9.1,>=0.8.0->verl) (12.6.77)\n",
            "Requirement already satisfied: nvidia-cuda-cupti-cu12==12.6.80 in /usr/local/lib/python3.12/dist-packages (from torch->tensordict!=0.9.0,<=0.9.1,>=0.8.0->verl) (12.6.80)\n",
            "Requirement already satisfied: nvidia-cudnn-cu12==9.10.2.21 in /usr/local/lib/python3.12/dist-packages (from torch->tensordict!=0.9.0,<=0.9.1,>=0.8.0->verl) (9.10.2.21)\n",
            "Requirement already satisfied: nvidia-cublas-cu12==12.6.4.1 in /usr/local/lib/python3.12/dist-packages (from torch->tensordict!=0.9.0,<=0.9.1,>=0.8.0->verl) (12.6.4.1)\n",
            "Requirement already satisfied: nvidia-cufft-cu12==11.3.0.4 in /usr/local/lib/python3.12/dist-packages (from torch->tensordict!=0.9.0,<=0.9.1,>=0.8.0->verl) (11.3.0.4)\n",
            "Requirement already satisfied: nvidia-curand-cu12==10.3.7.77 in /usr/local/lib/python3.12/dist-packages (from torch->tensordict!=0.9.0,<=0.9.1,>=0.8.0->verl) (10.3.7.77)\n",
            "Requirement already satisfied: nvidia-cusolver-cu12==11.7.1.2 in /usr/local/lib/python3.12/dist-packages (from torch->tensordict!=0.9.0,<=0.9.1,>=0.8.0->verl) (11.7.1.2)\n",
            "Requirement already satisfied: nvidia-cusparse-cu12==12.5.4.2 in /usr/local/lib/python3.12/dist-packages (from torch->tensordict!=0.9.0,<=0.9.1,>=0.8.0->verl) (12.5.4.2)\n",
            "Requirement already satisfied: nvidia-cusparselt-cu12==0.7.1 in /usr/local/lib/python3.12/dist-packages (from torch->tensordict!=0.9.0,<=0.9.1,>=0.8.0->verl) (0.7.1)\n",
            "Requirement already satisfied: nvidia-nccl-cu12==2.27.3 in /usr/local/lib/python3.12/dist-packages (from torch->tensordict!=0.9.0,<=0.9.1,>=0.8.0->verl) (2.27.3)\n",
            "Requirement already satisfied: nvidia-nvtx-cu12==12.6.77 in /usr/local/lib/python3.12/dist-packages (from torch->tensordict!=0.9.0,<=0.9.1,>=0.8.0->verl) (12.6.77)\n",
            "Requirement already satisfied: nvidia-nvjitlink-cu12==12.6.85 in /usr/local/lib/python3.12/dist-packages (from torch->tensordict!=0.9.0,<=0.9.1,>=0.8.0->verl) (12.6.85)\n",
            "Requirement already satisfied: nvidia-cufile-cu12==1.11.1.6 in /usr/local/lib/python3.12/dist-packages (from torch->tensordict!=0.9.0,<=0.9.1,>=0.8.0->verl) (1.11.1.6)\n",
            "Requirement already satisfied: triton==3.4.0 in /usr/local/lib/python3.12/dist-packages (from torch->tensordict!=0.9.0,<=0.9.1,>=0.8.0->verl) (3.4.0)\n",
            "Collecting distlib<1,>=0.3.7 (from virtualenv!=20.21.1,>=20.0.24->ray[default]>=2.41.0->verl)\n",
            "  Downloading distlib-0.4.0-py2.py3-none-any.whl.metadata (5.2 kB)\n",
            "Requirement already satisfied: jsonschema-specifications>=2023.03.6 in /usr/local/lib/python3.12/dist-packages (from jsonschema->ray>=2.41.0->ray[default]>=2.41.0->verl) (2025.9.1)\n",
            "Requirement already satisfied: referencing>=0.28.4 in /usr/local/lib/python3.12/dist-packages (from jsonschema->ray>=2.41.0->ray[default]>=2.41.0->verl) (0.36.2)\n",
            "Requirement already satisfied: rpds-py>=0.7.1 in /usr/local/lib/python3.12/dist-packages (from jsonschema->ray>=2.41.0->ray[default]>=2.41.0->verl) (0.27.1)\n",
            "Collecting opencensus-context>=0.1.3 (from opencensus->ray[default]>=2.41.0->verl)\n",
            "  Downloading opencensus_context-0.1.3-py2.py3-none-any.whl.metadata (3.3 kB)\n",
            "Requirement already satisfied: google-api-core<3.0.0,>=1.0.0 in /usr/local/lib/python3.12/dist-packages (from opencensus->ray[default]>=2.41.0->verl) (2.25.1)\n",
            "Requirement already satisfied: wrapt in /usr/local/lib/python3.12/dist-packages (from smart_open->ray[default]>=2.41.0->verl) (1.17.3)\n",
            "Requirement already satisfied: smmap<6,>=3.0.1 in /usr/local/lib/python3.12/dist-packages (from gitdb<5,>=4.0.1->gitpython!=3.1.29,>=1.0.0->wandb->verl) (5.0.2)\n",
            "Requirement already satisfied: googleapis-common-protos<2.0.0,>=1.56.2 in /usr/local/lib/python3.12/dist-packages (from google-api-core<3.0.0,>=1.0.0->opencensus->ray[default]>=2.41.0->verl) (1.70.0)\n",
            "Requirement already satisfied: proto-plus<2.0.0,>=1.22.3 in /usr/local/lib/python3.12/dist-packages (from google-api-core<3.0.0,>=1.0.0->opencensus->ray[default]>=2.41.0->verl) (1.26.1)\n",
            "Requirement already satisfied: google-auth<3.0.0,>=2.14.1 in /usr/local/lib/python3.12/dist-packages (from google-api-core<3.0.0,>=1.0.0->opencensus->ray[default]>=2.41.0->verl) (2.38.0)\n",
            "Requirement already satisfied: mpmath<1.4,>=1.1.0 in /usr/local/lib/python3.12/dist-packages (from sympy>=1.13.3->torch->tensordict!=0.9.0,<=0.9.1,>=0.8.0->verl) (1.3.0)\n",
            "Requirement already satisfied: MarkupSafe>=2.0 in /usr/local/lib/python3.12/dist-packages (from jinja2->torch->tensordict!=0.9.0,<=0.9.1,>=0.8.0->verl) (3.0.2)\n",
            "Requirement already satisfied: cachetools<6.0,>=2.0.0 in /usr/local/lib/python3.12/dist-packages (from google-auth<3.0.0,>=2.14.1->google-api-core<3.0.0,>=1.0.0->opencensus->ray[default]>=2.41.0->verl) (5.5.2)\n",
            "Requirement already satisfied: pyasn1-modules>=0.2.1 in /usr/local/lib/python3.12/dist-packages (from google-auth<3.0.0,>=2.14.1->google-api-core<3.0.0,>=1.0.0->opencensus->ray[default]>=2.41.0->verl) (0.4.2)\n",
            "Requirement already satisfied: rsa<5,>=3.1.4 in /usr/local/lib/python3.12/dist-packages (from google-auth<3.0.0,>=2.14.1->google-api-core<3.0.0,>=1.0.0->opencensus->ray[default]>=2.41.0->verl) (4.9.1)\n",
            "Requirement already satisfied: pyasn1<0.7.0,>=0.6.1 in /usr/local/lib/python3.12/dist-packages (from pyasn1-modules>=0.2.1->google-auth<3.0.0,>=2.14.1->google-api-core<3.0.0,>=1.0.0->opencensus->ray[default]>=2.41.0->verl) (0.6.1)\n",
            "Downloading verl-0.5.0-py2.py3-none-any.whl (895 kB)\n",
            "\u001b[2K   \u001b[90m━━━━━━━━━━━━━━━━━━━━━━━━━━━━━━━━━━━━━━━━\u001b[0m \u001b[32m895.3/895.3 kB\u001b[0m \u001b[31m36.1 MB/s\u001b[0m eta \u001b[36m0:00:00\u001b[0m\n",
            "\u001b[?25hDownloading numpy-1.26.4-cp312-cp312-manylinux_2_17_x86_64.manylinux2014_x86_64.whl (18.0 MB)\n",
            "\u001b[2K   \u001b[90m━━━━━━━━━━━━━━━━━━━━━━━━━━━━━━━━━━━━━━━━\u001b[0m \u001b[32m18.0/18.0 MB\u001b[0m \u001b[31m69.2 MB/s\u001b[0m eta \u001b[36m0:00:00\u001b[0m\n",
            "\u001b[?25hDownloading pyarrow-21.0.0-cp312-cp312-manylinux_2_28_x86_64.whl (42.8 MB)\n",
            "\u001b[2K   \u001b[90m━━━━━━━━━━━━━━━━━━━━━━━━━━━━━━━━━━━━━━━━\u001b[0m \u001b[32m42.8/42.8 MB\u001b[0m \u001b[31m16.3 MB/s\u001b[0m eta \u001b[36m0:00:00\u001b[0m\n",
            "\u001b[?25hDownloading tensordict-0.9.1-cp312-cp312-manylinux_2_28_x86_64.whl (430 kB)\n",
            "\u001b[2K   \u001b[90m━━━━━━━━━━━━━━━━━━━━━━━━━━━━━━━━━━━━━━━━\u001b[0m \u001b[32m430.2/430.2 kB\u001b[0m \u001b[31m26.4 MB/s\u001b[0m eta \u001b[36m0:00:00\u001b[0m\n",
            "\u001b[?25hDownloading codetiming-1.4.0-py3-none-any.whl (7.2 kB)\n",
            "Downloading hydra_core-1.3.2-py3-none-any.whl (154 kB)\n",
            "\u001b[2K   \u001b[90m━━━━━━━━━━━━━━━━━━━━━━━━━━━━━━━━━━━━━━━━\u001b[0m \u001b[32m154.5/154.5 kB\u001b[0m \u001b[31m13.9 MB/s\u001b[0m eta \u001b[36m0:00:00\u001b[0m\n",
            "\u001b[?25hDownloading pybind11-3.0.1-py3-none-any.whl (293 kB)\n",
            "\u001b[2K   \u001b[90m━━━━━━━━━━━━━━━━━━━━━━━━━━━━━━━━━━━━━━━━\u001b[0m \u001b[32m293.6/293.6 kB\u001b[0m \u001b[31m22.2 MB/s\u001b[0m eta \u001b[36m0:00:00\u001b[0m\n",
            "\u001b[?25hDownloading py_spy-0.4.1-py2.py3-none-manylinux_2_5_x86_64.manylinux1_x86_64.whl (2.8 MB)\n",
            "\u001b[2K   \u001b[90m━━━━━━━━━━━━━━━━━━━━━━━━━━━━━━━━━━━━━━━━\u001b[0m \u001b[32m2.8/2.8 MB\u001b[0m \u001b[31m65.0 MB/s\u001b[0m eta \u001b[36m0:00:00\u001b[0m\n",
            "\u001b[?25hDownloading pyvers-0.1.0-py3-none-any.whl (10 kB)\n",
            "Downloading virtualenv-20.34.0-py3-none-any.whl (6.0 MB)\n",
            "\u001b[2K   \u001b[90m━━━━━━━━━━━━━━━━━━━━━━━━━━━━━━━━━━━━━━━━\u001b[0m \u001b[32m6.0/6.0 MB\u001b[0m \u001b[31m68.4 MB/s\u001b[0m eta \u001b[36m0:00:00\u001b[0m\n",
            "\u001b[?25hDownloading aiohttp_cors-0.8.1-py3-none-any.whl (25 kB)\n",
            "Downloading colorful-0.5.7-py2.py3-none-any.whl (201 kB)\n",
            "\u001b[2K   \u001b[90m━━━━━━━━━━━━━━━━━━━━━━━━━━━━━━━━━━━━━━━━\u001b[0m \u001b[32m201.5/201.5 kB\u001b[0m \u001b[31m14.1 MB/s\u001b[0m eta \u001b[36m0:00:00\u001b[0m\n",
            "\u001b[?25hDownloading opencensus-0.11.4-py2.py3-none-any.whl (128 kB)\n",
            "\u001b[2K   \u001b[90m━━━━━━━━━━━━━━━━━━━━━━━━━━━━━━━━━━━━━━━━\u001b[0m \u001b[32m128.2/128.2 kB\u001b[0m \u001b[31m10.7 MB/s\u001b[0m eta \u001b[36m0:00:00\u001b[0m\n",
            "\u001b[?25hDownloading opentelemetry_exporter_prometheus-0.58b0-py3-none-any.whl (13 kB)\n",
            "Downloading opentelemetry_proto-1.37.0-py3-none-any.whl (72 kB)\n",
            "\u001b[2K   \u001b[90m━━━━━━━━━━━━━━━━━━━━━━━━━━━━━━━━━━━━━━━━\u001b[0m \u001b[32m72.5/72.5 kB\u001b[0m \u001b[31m6.0 MB/s\u001b[0m eta \u001b[36m0:00:00\u001b[0m\n",
            "\u001b[?25hDownloading distlib-0.4.0-py2.py3-none-any.whl (469 kB)\n",
            "\u001b[2K   \u001b[90m━━━━━━━━━━━━━━━━━━━━━━━━━━━━━━━━━━━━━━━━\u001b[0m \u001b[32m469.0/469.0 kB\u001b[0m \u001b[31m29.6 MB/s\u001b[0m eta \u001b[36m0:00:00\u001b[0m\n",
            "\u001b[?25hDownloading opencensus_context-0.1.3-py2.py3-none-any.whl (5.1 kB)\n",
            "Building wheels for collected packages: pylatexenc\n",
            "  Building wheel for pylatexenc (setup.py) ... \u001b[?25l\u001b[?25hdone\n",
            "  Created wheel for pylatexenc: filename=pylatexenc-2.10-py3-none-any.whl size=136817 sha256=99d2a33bed6e50342bf70e1eb58dd00b3f6802fd30d7fce801775ee78224d608\n",
            "  Stored in directory: /root/.cache/pip/wheels/06/3e/78/fa1588c1ae991bbfd814af2bcac6cef7a178beee1939180d46\n",
            "Successfully built pylatexenc\n",
            "Installing collected packages: pylatexenc, py-spy, opencensus-context, distlib, colorful, virtualenv, pyvers, pybind11, pyarrow, opentelemetry-proto, numpy, codetiming, hydra-core, aiohttp_cors, tensordict, opencensus, opentelemetry-exporter-prometheus, verl\n",
            "  Attempting uninstall: pyarrow\n",
            "    Found existing installation: pyarrow 18.1.0\n",
            "    Uninstalling pyarrow-18.1.0:\n",
            "      Successfully uninstalled pyarrow-18.1.0\n",
            "  Attempting uninstall: numpy\n",
            "    Found existing installation: numpy 2.0.2\n",
            "    Uninstalling numpy-2.0.2:\n",
            "      Successfully uninstalled numpy-2.0.2\n",
            "\u001b[31mERROR: pip's dependency resolver does not currently take into account all the packages that are installed. This behaviour is the source of the following dependency conflicts.\n",
            "opencv-python-headless 4.12.0.88 requires numpy<2.3.0,>=2; python_version >= \"3.9\", but you have numpy 1.26.4 which is incompatible.\n",
            "thinc 8.3.6 requires numpy<3.0.0,>=2.0.0, but you have numpy 1.26.4 which is incompatible.\n",
            "opencv-python 4.12.0.88 requires numpy<2.3.0,>=2; python_version >= \"3.9\", but you have numpy 1.26.4 which is incompatible.\n",
            "opencv-contrib-python 4.12.0.88 requires numpy<2.3.0,>=2; python_version >= \"3.9\", but you have numpy 1.26.4 which is incompatible.\n",
            "pylibcudf-cu12 25.6.0 requires pyarrow<20.0.0a0,>=14.0.0; platform_machine == \"x86_64\", but you have pyarrow 21.0.0 which is incompatible.\n",
            "cudf-cu12 25.6.0 requires pyarrow<20.0.0a0,>=14.0.0; platform_machine == \"x86_64\", but you have pyarrow 21.0.0 which is incompatible.\u001b[0m\u001b[31m\n",
            "\u001b[0mSuccessfully installed aiohttp_cors-0.8.1 codetiming-1.4.0 colorful-0.5.7 distlib-0.4.0 hydra-core-1.3.2 numpy-1.26.4 opencensus-0.11.4 opencensus-context-0.1.3 opentelemetry-exporter-prometheus-0.58b0 opentelemetry-proto-1.37.0 py-spy-0.4.1 pyarrow-21.0.0 pybind11-3.0.1 pylatexenc-2.10 pyvers-0.1.0 tensordict-0.9.1 verl-0.5.0 virtualenv-20.34.0\n"
          ]
        },
        {
          "output_type": "display_data",
          "data": {
            "application/vnd.colab-display-data+json": {
              "pip_warning": {
                "packages": [
                  "numpy",
                  "pyarrow"
                ]
              },
              "id": "72a7f3acf3224c6cad11b987a4b99266"
            }
          },
          "metadata": {}
        }
      ],
      "source": [
        "import os\n",
        "!pip install ray\n",
        "!pip install verl"
      ]
    },
    {
      "cell_type": "code",
      "execution_count": 1,
      "id": "e75b9d44",
      "metadata": {
        "tags": [],
        "id": "e75b9d44"
      },
      "outputs": [],
      "source": [
        "import warnings\n",
        "\n",
        "import ray\n",
        "import torch\n",
        "\n",
        "warnings.filterwarnings(\"ignore\")"
      ]
    },
    {
      "cell_type": "code",
      "execution_count": 2,
      "id": "2e90ae00",
      "metadata": {
        "tags": [],
        "id": "2e90ae00",
        "outputId": "0498760d-9af3-4c29-dcd5-add497486646",
        "colab": {
          "base_uri": "https://localhost:8080/",
          "height": 461
        }
      },
      "outputs": [
        {
          "output_type": "stream",
          "name": "stderr",
          "text": [
            "2025-09-25 23:28:23,233\tERROR services.py:1357 -- Failed to start the dashboard \n",
            "2025-09-25 23:28:23,251\tERROR services.py:1382 -- Error should be written to 'dashboard.log' or 'dashboard.err'. We are printing the last 20 lines for you. See 'https://docs.ray.io/en/master/ray-observability/user-guides/configure-logging.html#logging-directory-structure' to find where the log file is.\n",
            "2025-09-25 23:28:23,256\tERROR services.py:1426 -- \n",
            "The last 20 lines of /tmp/ray/session_2025-09-25_23-27-59_817212_8754/logs/dashboard.log (it contains the error message from the dashboard): \n",
            "2025-09-25 23:28:08,901\tINFO utils.py:338 -- Available modules: [<class 'ray.dashboard.modules.usage_stats.usage_stats_head.UsageStatsHead'>]\n",
            "2025-09-25 23:28:08,901\tINFO head.py:235 -- DashboardHeadModules to load: None.\n",
            "2025-09-25 23:28:08,901\tINFO head.py:238 -- Loading DashboardHeadModule: <class 'ray.dashboard.modules.usage_stats.usage_stats_head.UsageStatsHead'>.\n",
            "2025-09-25 23:28:08,901\tINFO head.py:242 -- Loaded 1 dashboard head modules: [<ray.dashboard.modules.usage_stats.usage_stats_head.UsageStatsHead object at 0x7c280bc22cf0>].\n",
            "2025-09-25 23:28:08,901\tINFO utils.py:305 -- Get all modules by type: SubprocessModule\n",
            "2025-09-25 23:28:08,903\tINFO utils.py:338 -- Available modules: [<class 'ray.dashboard.modules.metrics.metrics_head.MetricsHead'>, <class 'ray.dashboard.modules.data.data_head.DataHead'>, <class 'ray.dashboard.modules.event.event_head.EventHead'>, <class 'ray.dashboard.modules.job.job_head.JobHead'>, <class 'ray.dashboard.modules.node.node_head.NodeHead'>, <class 'ray.dashboard.modules.reporter.reporter_head.ReportHead'>, <class 'ray.dashboard.modules.serve.serve_head.ServeHead'>, <class 'ray.dashboard.modules.state.state_head.StateHead'>, <class 'ray.dashboard.modules.train.train_head.TrainHead'>]\n",
            "2025-09-25 23:28:08,903\tINFO head.py:292 -- Loading SubprocessModule: <class 'ray.dashboard.modules.metrics.metrics_head.MetricsHead'>.\n",
            "2025-09-25 23:28:08,903\tINFO head.py:292 -- Loading SubprocessModule: <class 'ray.dashboard.modules.data.data_head.DataHead'>.\n",
            "2025-09-25 23:28:08,904\tINFO head.py:292 -- Loading SubprocessModule: <class 'ray.dashboard.modules.event.event_head.EventHead'>.\n",
            "2025-09-25 23:28:08,904\tINFO head.py:292 -- Loading SubprocessModule: <class 'ray.dashboard.modules.job.job_head.JobHead'>.\n",
            "2025-09-25 23:28:08,904\tINFO head.py:292 -- Loading SubprocessModule: <class 'ray.dashboard.modules.node.node_head.NodeHead'>.\n",
            "2025-09-25 23:28:08,904\tINFO head.py:292 -- Loading SubprocessModule: <class 'ray.dashboard.modules.reporter.reporter_head.ReportHead'>.\n",
            "2025-09-25 23:28:08,904\tINFO head.py:292 -- Loading SubprocessModule: <class 'ray.dashboard.modules.serve.serve_head.ServeHead'>.\n",
            "2025-09-25 23:28:08,904\tINFO head.py:292 -- Loading SubprocessModule: <class 'ray.dashboard.modules.state.state_head.StateHead'>.\n",
            "2025-09-25 23:28:08,904\tINFO head.py:292 -- Loading SubprocessModule: <class 'ray.dashboard.modules.train.train_head.TrainHead'>.\n",
            "2025-09-25 23:28:08,904\tINFO head.py:296 -- Loaded 9 subprocess modules: [<ray.dashboard.subprocesses.handle.SubprocessModuleHandle object at 0x7c2800227cb0>, <ray.dashboard.subprocesses.handle.SubprocessModuleHandle object at 0x7c280ba362a0>, <ray.dashboard.subprocesses.handle.SubprocessModuleHandle object at 0x7c28015c0200>, <ray.dashboard.subprocesses.handle.SubprocessModuleHandle object at 0x7c28015c0590>, <ray.dashboard.subprocesses.handle.SubprocessModuleHandle object at 0x7c28015c0230>, <ray.dashboard.subprocesses.handle.SubprocessModuleHandle object at 0x7c28015c0140>, <ray.dashboard.subprocesses.handle.SubprocessModuleHandle object at 0x7c280164a990>, <ray.dashboard.subprocesses.handle.SubprocessModuleHandle object at 0x7c2800fc8440>, <ray.dashboard.subprocesses.handle.SubprocessModuleHandle object at 0x7c280164a930>].\n",
            "\n",
            "2025-09-25 23:28:24,942\tINFO worker.py:1951 -- Started a local Ray instance.\n"
          ]
        },
        {
          "output_type": "execute_result",
          "data": {
            "text/plain": [
              "RayContext(dashboard_url=None, python_version='3.12.11', ray_version='2.49.2', ray_commit='479fa716904109d9df4b56b98ca3c3350e1ec13c')"
            ],
            "text/html": [
              "<div class=\"lm-Widget p-Widget lm-Panel p-Panel jp-Cell-outputWrapper\">\n",
              "    <div style=\"margin-left: 50px;display: flex;flex-direction: row;align-items: center\">\n",
              "        <div class=\"jp-RenderedHTMLCommon\" style=\"display: flex; flex-direction: row;\">\n",
              "  <svg viewBox=\"0 0 567 224\" fill=\"none\" xmlns=\"http://www.w3.org/2000/svg\" style=\"height: 3em;\">\n",
              "    <g clip-path=\"url(#clip0_4338_178347)\">\n",
              "        <path d=\"M341.29 165.561H355.29L330.13 129.051C345.63 123.991 354.21 112.051 354.21 94.2307C354.21 71.3707 338.72 58.1807 311.88 58.1807H271V165.561H283.27V131.661H311.8C314.25 131.661 316.71 131.501 319.01 131.351L341.25 165.561H341.29ZM283.29 119.851V70.0007H311.82C331.3 70.0007 342.34 78.2907 342.34 94.5507C342.34 111.271 331.34 119.861 311.82 119.861L283.29 119.851ZM451.4 138.411L463.4 165.561H476.74L428.74 58.1807H416L367.83 165.561H380.83L392.83 138.411H451.4ZM446.19 126.601H398L422 72.1407L446.24 126.601H446.19ZM526.11 128.741L566.91 58.1807H554.35L519.99 114.181L485.17 58.1807H472.44L514.01 129.181V165.541H526.13V128.741H526.11Z\" fill=\"var(--jp-ui-font-color0)\"/>\n",
              "        <path d=\"M82.35 104.44C84.0187 97.8827 87.8248 92.0678 93.1671 87.9146C98.5094 83.7614 105.083 81.5067 111.85 81.5067C118.617 81.5067 125.191 83.7614 130.533 87.9146C135.875 92.0678 139.681 97.8827 141.35 104.44H163.75C164.476 101.562 165.622 98.8057 167.15 96.2605L127.45 56.5605C121.071 60.3522 113.526 61.6823 106.235 60.3005C98.9443 58.9187 92.4094 54.9203 87.8602 49.0574C83.3109 43.1946 81.0609 35.8714 81.5332 28.4656C82.0056 21.0599 85.1679 14.0819 90.4252 8.8446C95.6824 3.60726 102.672 0.471508 110.08 0.0272655C117.487 -0.416977 124.802 1.86091 130.647 6.4324C136.493 11.0039 140.467 17.5539 141.821 24.8501C143.175 32.1463 141.816 39.6859 138 46.0505L177.69 85.7505C182.31 82.9877 187.58 81.4995 192.962 81.4375C198.345 81.3755 203.648 82.742 208.33 85.3976C213.012 88.0532 216.907 91.9029 219.616 96.5544C222.326 101.206 223.753 106.492 223.753 111.875C223.753 117.258 222.326 122.545 219.616 127.197C216.907 131.848 213.012 135.698 208.33 138.353C203.648 141.009 198.345 142.375 192.962 142.313C187.58 142.251 182.31 140.763 177.69 138L138 177.7C141.808 184.071 143.155 191.614 141.79 198.91C140.424 206.205 136.44 212.75 130.585 217.313C124.731 221.875 117.412 224.141 110.004 223.683C102.596 223.226 95.6103 220.077 90.3621 214.828C85.1139 209.58 81.9647 202.595 81.5072 195.187C81.0497 187.779 83.3154 180.459 87.878 174.605C92.4405 168.751 98.9853 164.766 106.281 163.401C113.576 162.035 121.119 163.383 127.49 167.19L167.19 127.49C165.664 124.941 164.518 122.182 163.79 119.3H141.39C139.721 125.858 135.915 131.673 130.573 135.826C125.231 139.98 118.657 142.234 111.89 142.234C105.123 142.234 98.5494 139.98 93.2071 135.826C87.8648 131.673 84.0587 125.858 82.39 119.3H60C58.1878 126.495 53.8086 132.78 47.6863 136.971C41.5641 141.163 34.1211 142.972 26.7579 142.059C19.3947 141.146 12.6191 137.574 7.70605 132.014C2.79302 126.454 0.0813599 119.29 0.0813599 111.87C0.0813599 104.451 2.79302 97.2871 7.70605 91.7272C12.6191 86.1673 19.3947 82.5947 26.7579 81.6817C34.1211 80.7686 41.5641 82.5781 47.6863 86.7696C53.8086 90.9611 58.1878 97.2456 60 104.44H82.35ZM100.86 204.32C103.407 206.868 106.759 208.453 110.345 208.806C113.93 209.159 117.527 208.258 120.522 206.256C123.517 204.254 125.725 201.276 126.771 197.828C127.816 194.38 127.633 190.677 126.253 187.349C124.874 184.021 122.383 181.274 119.205 179.577C116.027 177.88 112.359 177.337 108.826 178.042C105.293 178.746 102.113 180.654 99.8291 183.44C97.5451 186.226 96.2979 189.718 96.3 193.32C96.2985 195.364 96.7006 197.388 97.4831 199.275C98.2656 201.163 99.4132 202.877 100.86 204.32ZM204.32 122.88C206.868 120.333 208.453 116.981 208.806 113.396C209.159 109.811 208.258 106.214 206.256 103.219C204.254 100.223 201.275 98.0151 197.827 96.97C194.38 95.9249 190.676 96.1077 187.348 97.4873C184.02 98.8669 181.274 101.358 179.577 104.536C177.879 107.714 177.337 111.382 178.041 114.915C178.746 118.448 180.653 121.627 183.439 123.911C186.226 126.195 189.717 127.443 193.32 127.44C195.364 127.443 197.388 127.042 199.275 126.259C201.163 125.476 202.878 124.328 204.32 122.88ZM122.88 19.4205C120.333 16.8729 116.981 15.2876 113.395 14.9347C109.81 14.5817 106.213 15.483 103.218 17.4849C100.223 19.4868 98.0146 22.4654 96.9696 25.9131C95.9245 29.3608 96.1073 33.0642 97.4869 36.3922C98.8665 39.7202 101.358 42.4668 104.535 44.1639C107.713 45.861 111.381 46.4036 114.914 45.6992C118.447 44.9949 121.627 43.0871 123.911 40.301C126.195 37.515 127.442 34.0231 127.44 30.4205C127.44 28.3772 127.038 26.3539 126.255 24.4664C125.473 22.5788 124.326 20.8642 122.88 19.4205ZM19.42 100.86C16.8725 103.408 15.2872 106.76 14.9342 110.345C14.5813 113.93 15.4826 117.527 17.4844 120.522C19.4863 123.518 22.4649 125.726 25.9127 126.771C29.3604 127.816 33.0638 127.633 36.3918 126.254C39.7198 124.874 42.4664 122.383 44.1635 119.205C45.8606 116.027 46.4032 112.359 45.6988 108.826C44.9944 105.293 43.0866 102.114 40.3006 99.8296C37.5145 97.5455 34.0227 96.2983 30.42 96.3005C26.2938 96.3018 22.337 97.9421 19.42 100.86ZM100.86 100.86C98.3125 103.408 96.7272 106.76 96.3742 110.345C96.0213 113.93 96.9226 117.527 98.9244 120.522C100.926 123.518 103.905 125.726 107.353 126.771C110.8 127.816 114.504 127.633 117.832 126.254C121.16 124.874 123.906 122.383 125.604 119.205C127.301 116.027 127.843 112.359 127.139 108.826C126.434 105.293 124.527 102.114 121.741 99.8296C118.955 97.5455 115.463 96.2983 111.86 96.3005C109.817 96.299 107.793 96.701 105.905 97.4835C104.018 98.2661 102.303 99.4136 100.86 100.86Z\" fill=\"#00AEEF\"/>\n",
              "    </g>\n",
              "    <defs>\n",
              "        <clipPath id=\"clip0_4338_178347\">\n",
              "            <rect width=\"566.93\" height=\"223.75\" fill=\"white\"/>\n",
              "        </clipPath>\n",
              "    </defs>\n",
              "  </svg>\n",
              "</div>\n",
              "\n",
              "        <table class=\"jp-RenderedHTMLCommon\" style=\"border-collapse: collapse;color: var(--jp-ui-font-color1);font-size: var(--jp-ui-font-size1);\">\n",
              "    <tr>\n",
              "        <td style=\"text-align: left\"><b>Python version:</b></td>\n",
              "        <td style=\"text-align: left\"><b>3.12.11</b></td>\n",
              "    </tr>\n",
              "    <tr>\n",
              "        <td style=\"text-align: left\"><b>Ray version:</b></td>\n",
              "        <td style=\"text-align: left\"><b>2.49.2</b></td>\n",
              "    </tr>\n",
              "    \n",
              "</table>\n",
              "\n",
              "    </div>\n",
              "</div>\n"
            ]
          },
          "metadata": {},
          "execution_count": 2
        }
      ],
      "source": [
        "# Build a local ray cluster. The head node and worker node are on this machine\n",
        "ray.init()"
      ]
    },
    {
      "cell_type": "markdown",
      "id": "a127e4e4",
      "metadata": {
        "id": "a127e4e4"
      },
      "source": [
        "Implement an Accumulator class."
      ]
    },
    {
      "cell_type": "code",
      "execution_count": 3,
      "id": "20e7b9a3",
      "metadata": {
        "tags": [],
        "id": "20e7b9a3"
      },
      "outputs": [],
      "source": [
        "@ray.remote\n",
        "class Accumulator:\n",
        "    def __init__(self):\n",
        "        self.value = 0\n",
        "\n",
        "    def add(self, x):\n",
        "        self.value += x\n",
        "\n",
        "    def get_value(self):\n",
        "        return self.value"
      ]
    },
    {
      "cell_type": "code",
      "execution_count": 4,
      "id": "3b80098c",
      "metadata": {
        "tags": [],
        "id": "3b80098c"
      },
      "outputs": [],
      "source": [
        "# Instantiate an accumulator. Accumulator can be viewed as a process, acting as an RPC service.\n",
        "accumulator = Accumulator.remote()"
      ]
    },
    {
      "cell_type": "code",
      "execution_count": 5,
      "id": "b14b1009",
      "metadata": {
        "tags": [],
        "id": "b14b1009",
        "outputId": "ff2b7306-d744-4a9e-9ea2-b7254a5e65d8",
        "colab": {
          "base_uri": "https://localhost:8080/"
        }
      },
      "outputs": [
        {
          "output_type": "stream",
          "name": "stdout",
          "text": [
            "0\n"
          ]
        }
      ],
      "source": [
        "value_ref = accumulator.get_value.remote()  # Check the current value. Note that this function returns immediately and does not actually wait for the remote execution to complete.\n",
        "# Get the value\n",
        "value = ray.get(value_ref)\n",
        "print(value)"
      ]
    },
    {
      "cell_type": "code",
      "execution_count": 6,
      "id": "513a84b3",
      "metadata": {
        "tags": [],
        "id": "513a84b3",
        "outputId": "52c0cacf-9359-466a-bcb3-b88bef71360b",
        "colab": {
          "base_uri": "https://localhost:8080/"
        }
      },
      "outputs": [
        {
          "output_type": "stream",
          "name": "stdout",
          "text": [
            "10\n"
          ]
        }
      ],
      "source": [
        "# Accumulate, then check the result.\n",
        "accumulator.add.remote(10)  # Similarly, the 'add' here will return immediately.\n",
        "new_value = ray.get(accumulator.get_value.remote())\n",
        "print(new_value)"
      ]
    },
    {
      "cell_type": "markdown",
      "id": "3c332fe0",
      "metadata": {
        "id": "3c332fe0"
      },
      "source": [
        "## Chapter 2: Resource Pool and RayWorkerGroup\n",
        "In the previous example, it was a simple single-process worker.\n",
        "In this example, we implement a worker with a GPU and form a RayWorkerGroup. Within this RayWorkerGroup, we implement a simple operation of an accumulator."
      ]
    },
    {
      "cell_type": "code",
      "execution_count": 7,
      "id": "04229afb",
      "metadata": {
        "tags": [],
        "id": "04229afb"
      },
      "outputs": [],
      "source": [
        "from verl.single_controller.base import Worker\n",
        "from verl.single_controller.ray.base import RayClassWithInitArgs, RayResourcePool, RayWorkerGroup, merge_resource_pool"
      ]
    },
    {
      "cell_type": "code",
      "execution_count": 8,
      "id": "0d0dbd58",
      "metadata": {
        "tags": [],
        "id": "0d0dbd58"
      },
      "outputs": [],
      "source": [
        "resource_pool = RayResourcePool([4], use_gpu=True)"
      ]
    },
    {
      "cell_type": "code",
      "execution_count": 1,
      "id": "68f6838a",
      "metadata": {
        "tags": [],
        "id": "68f6838a",
        "outputId": "503ca53c-7581-4064-9cb8-b021b169ff48",
        "colab": {
          "base_uri": "https://localhost:8080/",
          "height": 211
        }
      },
      "outputs": [
        {
          "output_type": "error",
          "ename": "NameError",
          "evalue": "name 'ray' is not defined",
          "traceback": [
            "\u001b[0;31m---------------------------------------------------------------------------\u001b[0m",
            "\u001b[0;31mNameError\u001b[0m                                 Traceback (most recent call last)",
            "\u001b[0;32m/tmp/ipython-input-2845654819.py\u001b[0m in \u001b[0;36m<cell line: 0>\u001b[0;34m()\u001b[0m\n\u001b[0;32m----> 1\u001b[0;31m \u001b[0;34m@\u001b[0m\u001b[0mray\u001b[0m\u001b[0;34m.\u001b[0m\u001b[0mremote\u001b[0m\u001b[0;34m\u001b[0m\u001b[0;34m\u001b[0m\u001b[0m\n\u001b[0m\u001b[1;32m      2\u001b[0m \u001b[0;32mclass\u001b[0m \u001b[0mGPUAccumulator\u001b[0m\u001b[0;34m(\u001b[0m\u001b[0mWorker\u001b[0m\u001b[0;34m)\u001b[0m\u001b[0;34m:\u001b[0m\u001b[0;34m\u001b[0m\u001b[0;34m\u001b[0m\u001b[0m\n\u001b[1;32m      3\u001b[0m     \u001b[0;32mdef\u001b[0m \u001b[0m__init__\u001b[0m\u001b[0;34m(\u001b[0m\u001b[0mself\u001b[0m\u001b[0;34m)\u001b[0m \u001b[0;34m->\u001b[0m \u001b[0;32mNone\u001b[0m\u001b[0;34m:\u001b[0m\u001b[0;34m\u001b[0m\u001b[0;34m\u001b[0m\u001b[0m\n\u001b[1;32m      4\u001b[0m         \u001b[0msuper\u001b[0m\u001b[0;34m(\u001b[0m\u001b[0;34m)\u001b[0m\u001b[0;34m.\u001b[0m\u001b[0m__init__\u001b[0m\u001b[0;34m(\u001b[0m\u001b[0;34m)\u001b[0m\u001b[0;34m\u001b[0m\u001b[0;34m\u001b[0m\u001b[0m\n\u001b[1;32m      5\u001b[0m         \u001b[0;31m# The initial value of each rank is the same as the rank\u001b[0m\u001b[0;34m\u001b[0m\u001b[0;34m\u001b[0m\u001b[0m\n",
            "\u001b[0;31mNameError\u001b[0m: name 'ray' is not defined"
          ]
        }
      ],
      "source": [
        "@ray.remote\n",
        "class GPUAccumulator(Worker):\n",
        "    def __init__(self) -> None:\n",
        "        super().__init__()\n",
        "        # The initial value of each rank is the same as the rank\n",
        "        self.value = torch.zeros(size=(1,), device=\"cuda\") + self.rank\n",
        "\n",
        "    def add(self, x):\n",
        "        self.value += x\n",
        "        print(f\"rank {self.rank}, value: {self.value}\")\n",
        "        return self.value.cpu()"
      ]
    },
    {
      "cell_type": "code",
      "execution_count": null,
      "id": "23aad8fe",
      "metadata": {
        "tags": [],
        "id": "23aad8fe",
        "outputId": "370c33bb-24dd-463a-c2a0-02708b267df9",
        "colab": {
          "base_uri": "https://localhost:8080/"
        }
      },
      "outputs": [
        {
          "output_type": "stream",
          "name": "stdout",
          "text": [
            "\u001b[36m(autoscaler +4h5m24s)\u001b[0m Tip: use `ray status` to view detailed cluster status. To disable these messages, set RAY_SCHEDULER_EVENTS=0.\n",
            "\u001b[33m(autoscaler +4h5m24s)\u001b[0m Error: No available node types can fulfill resource request defaultdict(<class 'float'>, {'CPU': 40.0, 'GPU': 4.0}). Add suitable node types to this cluster to resolve this issue.\n"
          ]
        }
      ],
      "source": [
        "# Each worker's initial value is its rank, and then each rank's value is incremented by 1, so the values obtained on each rank are [1, 2, 3, 4]\n",
        "class_with_args = RayClassWithInitArgs(cls=GPUAccumulator)\n",
        "worker_group = RayWorkerGroup(resource_pool, class_with_args)\n",
        "print(worker_group.execute_all_sync(\"add\", x=[1, 1, 1, 1]))"
      ]
    },
    {
      "cell_type": "markdown",
      "id": "e6705284",
      "metadata": {
        "id": "e6705284"
      },
      "source": [
        "The principle of parameter passing: The input parameter is a list of length world_size, where each element in the list is dispatched respectively to each worker in the RayWorkerGroup.\n",
        "The return parameter is also a list, corresponding to the return value of each worker."
      ]
    },
    {
      "cell_type": "markdown",
      "id": "d25c2412",
      "metadata": {
        "id": "d25c2412"
      },
      "source": [
        "### GPU Resource Sharing"
      ]
    },
    {
      "cell_type": "markdown",
      "id": "f74f6d24",
      "metadata": {
        "id": "f74f6d24"
      },
      "source": [
        "RayWorkerGroups mapped to the same resource pool share the GPU. In this example, we implement three resource pools: the first occupies 4 GPUs, the second also occupies 4 GPUs, and the last occupies all 8 GPUs. Among them, the first resource pool reuses the resource pool mentioned above."
      ]
    },
    {
      "cell_type": "code",
      "execution_count": null,
      "id": "49f9c06f",
      "metadata": {
        "tags": [],
        "id": "49f9c06f"
      },
      "outputs": [],
      "source": [
        "# Create a new resource pool and then merge the newly created resource pool with the previous one.\n",
        "resource_pool_1 = RayResourcePool([4], use_gpu=True, name_prefix=\"a\")\n",
        "resource_pool_merge = merge_resource_pool(resource_pool, resource_pool_1)"
      ]
    },
    {
      "cell_type": "code",
      "execution_count": null,
      "id": "05c2e305",
      "metadata": {
        "tags": [],
        "id": "05c2e305"
      },
      "outputs": [],
      "source": [
        "# Establish a RayWorkerGroup on the newly created resource pool.\n",
        "worker_group_1 = RayWorkerGroup(resource_pool_1, class_with_args)\n",
        "worker_group_merge = RayWorkerGroup(resource_pool_merge, class_with_args)"
      ]
    },
    {
      "cell_type": "code",
      "execution_count": null,
      "id": "6b9b13f4",
      "metadata": {
        "tags": [],
        "id": "6b9b13f4",
        "outputId": "d7750a77-772e-4d58-9f58-e779b9aab762"
      },
      "outputs": [
        {
          "name": "stdout",
          "output_type": "stream",
          "text": [
            "[tensor([2.]), tensor([3.]), tensor([4.]), tensor([5.])]\n"
          ]
        }
      ],
      "source": [
        "# Run 'add' on the second set of 4 GPUs; the result should be [2, 3, 4, 5].\n",
        "output_1 = worker_group_1.execute_all_sync(\"add\", x=[2, 2, 2, 2])\n",
        "print(output_1)"
      ]
    },
    {
      "cell_type": "code",
      "execution_count": null,
      "id": "d856d030",
      "metadata": {
        "tags": [],
        "id": "d856d030",
        "outputId": "e2a1c5a9-3f97-4a78-a1a8-fa79289c54a7"
      },
      "outputs": [
        {
          "name": "stdout",
          "output_type": "stream",
          "text": [
            "[tensor([3.]), tensor([4.]), tensor([5.]), tensor([6.]), tensor([7.]), tensor([8.]), tensor([9.]), tensor([10.])]\n"
          ]
        }
      ],
      "source": [
        "# Run 'add' on the merged set of 8 GPUs; the result should be [3, 4, 5, 6, 7, 8, 9, 10].\n",
        "output_merge = worker_group_merge.execute_all_sync(\"add\", x=[3, 3, 3, 3, 3, 3, 3, 3])\n",
        "print(output_merge)"
      ]
    },
    {
      "cell_type": "code",
      "execution_count": null,
      "id": "33a4628c",
      "metadata": {
        "tags": [],
        "id": "33a4628c",
        "outputId": "82856ce3-6b9a-4cee-82d1-23bc2d7e2f8b"
      },
      "outputs": [
        {
          "name": "stdout",
          "output_type": "stream",
          "text": [
            "4 4 8\n"
          ]
        }
      ],
      "source": [
        "print(worker_group.world_size, worker_group_1.world_size, worker_group_merge.world_size)"
      ]
    },
    {
      "cell_type": "markdown",
      "id": "3df19d13",
      "metadata": {
        "id": "3df19d13"
      },
      "source": [
        "## Chapter 3: Data Dispatch, Execution and Collection"
      ]
    },
    {
      "cell_type": "markdown",
      "id": "acb22d9d",
      "metadata": {
        "id": "acb22d9d"
      },
      "source": [
        "In the above example, we used the `execute_all_sync` function in the RayWorkerGroup to dispatch data from the driver to each worker. This is very inconvenient for coding.\n",
        "In this chapter, we use the form of function decorators to allow RayWorkerGroup to directly call functions written in the Worker, and to greatly simplify parameter passing."
      ]
    },
    {
      "cell_type": "code",
      "execution_count": null,
      "id": "35237432",
      "metadata": {
        "tags": [],
        "id": "35237432"
      },
      "outputs": [],
      "source": [
        "from verl.single_controller.base.decorator import Dispatch, Execute, register"
      ]
    },
    {
      "cell_type": "code",
      "execution_count": null,
      "id": "88b8ba3b",
      "metadata": {
        "tags": [],
        "id": "88b8ba3b"
      },
      "outputs": [],
      "source": [
        "@ray.remote\n",
        "class GPUAccumulatorDecorator(Worker):\n",
        "    def __init__(self) -> None:\n",
        "        super().__init__()\n",
        "        # The initial value of each rank is the same as the rank\n",
        "        self.value = torch.zeros(size=(1,), device=\"cuda\") + self.rank\n",
        "\n",
        "    # map from a single input to all the worker\n",
        "    @register(Dispatch.ONE_TO_ALL)\n",
        "    def add(self, x):\n",
        "        print(x)\n",
        "        self.value = self.value + x\n",
        "        print(f\"rank {self.rank}, value: {self.value}\")\n",
        "        return self.value.cpu()"
      ]
    },
    {
      "cell_type": "code",
      "execution_count": null,
      "id": "eddaa043",
      "metadata": {
        "tags": [],
        "id": "eddaa043"
      },
      "outputs": [],
      "source": [
        "class_with_args = RayClassWithInitArgs(cls=GPUAccumulatorDecorator)\n",
        "gpu_accumulator_decorator = RayWorkerGroup(resource_pool_merge, class_with_args)"
      ]
    },
    {
      "cell_type": "code",
      "execution_count": null,
      "id": "10087c91",
      "metadata": {
        "tags": [],
        "id": "10087c91",
        "outputId": "49037403-f56d-479f-aa6b-9258e650022e"
      },
      "outputs": [
        {
          "name": "stdout",
          "output_type": "stream",
          "text": [
            "[tensor([10.]), tensor([11.]), tensor([12.]), tensor([13.]), tensor([14.]), tensor([15.]), tensor([16.]), tensor([17.])]\n"
          ]
        }
      ],
      "source": [
        "# As we can see, 10 is automatically dispatched to each Worker in this RayWorkerGroup.\n",
        "print(gpu_accumulator_decorator.add(x=10))"
      ]
    },
    {
      "cell_type": "markdown",
      "id": "540ee6ad",
      "metadata": {
        "id": "540ee6ad"
      },
      "source": [
        "### Custom Dispatch, Collection\n",
        "Users can customize `dispatch` and `collection` function. You only need to write the `dispatch_fn` and `collect_fn` functions yourself. We also support executing RPC only on rank_zero, with specific examples provided below."
      ]
    },
    {
      "cell_type": "code",
      "execution_count": null,
      "id": "8e041270",
      "metadata": {
        "tags": [],
        "id": "8e041270"
      },
      "outputs": [],
      "source": [
        "from verl.single_controller.base.decorator import Dispatch, collect_all_to_all, register"
      ]
    },
    {
      "cell_type": "code",
      "execution_count": null,
      "id": "43b5be31",
      "metadata": {
        "tags": [],
        "id": "43b5be31"
      },
      "outputs": [],
      "source": [
        "def two_to_all_dispatch_fn(worker_group, *args, **kwargs):\n",
        "    \"\"\"\n",
        "    Assume the input is a list of 2. Duplicate the input interleaved and pass to each worker.\n",
        "    \"\"\"\n",
        "    for arg in args:\n",
        "        assert len(arg) == 2\n",
        "        for i in range(worker_group.world_size - 2):\n",
        "            arg.append(arg[i % 2])\n",
        "    for k, v in kwargs.items():\n",
        "        assert len(v) == 2\n",
        "        for i in range(worker_group.world_size - 2):\n",
        "            v.append(v[i % 2])\n",
        "    return args, kwargs\n",
        "\n",
        "\n",
        "@ray.remote\n",
        "class TestActor(Worker):\n",
        "    # TODO: pass *args and **kwargs is bug prone and not very convincing\n",
        "    def __init__(self, x) -> None:\n",
        "        super().__init__()\n",
        "        self._x = x\n",
        "\n",
        "    def foo(self, y):\n",
        "        return self._x + y\n",
        "\n",
        "    @register(dispatch_mode=Dispatch.ALL_TO_ALL, execute_mode=Execute.RANK_ZERO)\n",
        "    def foo_rank_zero(self, x, y):\n",
        "        return self._x + y + x\n",
        "\n",
        "    @register(dispatch_mode={\"dispatch_fn\": two_to_all_dispatch_fn, \"collect_fn\": collect_all_to_all})\n",
        "    def foo_custom(self, x, y):\n",
        "        return self._x + y + x"
      ]
    },
    {
      "cell_type": "code",
      "execution_count": null,
      "id": "83ec6609",
      "metadata": {
        "tags": [],
        "id": "83ec6609"
      },
      "outputs": [],
      "source": [
        "class_with_args = RayClassWithInitArgs(cls=TestActor, x=2)\n",
        "worker_group = RayWorkerGroup(resource_pool, class_with_args)"
      ]
    },
    {
      "cell_type": "code",
      "execution_count": null,
      "id": "62c58d8a",
      "metadata": {
        "tags": [],
        "id": "62c58d8a"
      },
      "outputs": [],
      "source": [
        "output_ref = worker_group.foo_custom(x=[1, 2], y=[5, 6])\n",
        "assert output_ref == [8, 10, 8, 10]\n",
        "\n",
        "output_ref = worker_group.foo_rank_zero(x=1, y=2)\n",
        "assert output_ref == 5"
      ]
    },
    {
      "cell_type": "code",
      "execution_count": null,
      "id": "14689353",
      "metadata": {
        "tags": [],
        "id": "14689353",
        "outputId": "4e06e26c-945a-4f1f-ff48-a4008e0e8d71"
      },
      "outputs": [
        {
          "name": "stdout",
          "output_type": "stream",
          "text": [
            "8\n"
          ]
        }
      ],
      "source": [
        "print(gpu_accumulator_decorator.world_size)"
      ]
    },
    {
      "cell_type": "code",
      "execution_count": null,
      "id": "2c80bbf4",
      "metadata": {
        "tags": [],
        "id": "2c80bbf4"
      },
      "outputs": [],
      "source": [
        "# Shutdown ray cluster\n",
        "ray.shutdown()"
      ]
    },
    {
      "cell_type": "markdown",
      "id": "a5c8151c",
      "metadata": {
        "id": "a5c8151c"
      },
      "source": [
        "## Chapter 4: NVMegatronRayWorkerGroup"
      ]
    },
    {
      "cell_type": "markdown",
      "id": "cd5680e9",
      "metadata": {
        "id": "cd5680e9"
      },
      "source": [
        "Due to the Ray issue, we can only support max_colocate_count=1 in RayResourcePool for now.\n",
        "This means that each GPU can only have one process.\n",
        "We can support max_colocate > 1 when applying this pull request: https://github.com/ray-project/ray/pull/44385"
      ]
    },
    {
      "cell_type": "markdown",
      "id": "92724419",
      "metadata": {
        "id": "92724419"
      },
      "source": [
        "Therefore, we need to restart the ray and initialize a new resource_pool to demonstrate the **NVMegatronRayWorkerGroup**"
      ]
    },
    {
      "cell_type": "code",
      "execution_count": null,
      "id": "9b038538",
      "metadata": {
        "tags": [],
        "id": "9b038538"
      },
      "outputs": [],
      "source": [
        "# Build a local ray cluster. The head node and worker node are on this machine\n",
        "ray.init()"
      ]
    },
    {
      "cell_type": "markdown",
      "id": "ebfd8798",
      "metadata": {
        "id": "ebfd8798"
      },
      "source": [
        "Finally, we implement a `NVMegatronRayWorkerGroup`, within which we create a Megatron and then run a tensor parallel (tp) split Llama mlp layer. Here, we use a complex dispatch mode, `Megatron_COMPUTE`. This dispatch mode assumes that user passes the data partitioned by DP dimension. The data is dispatched to all tp/pp ranks within the same dp group, and ultimately only collects output data from tp=0 and the last pp. In this way, for users that only write code on the driver, the Megatron behind the RPC becomes transparent."
      ]
    },
    {
      "cell_type": "code",
      "execution_count": null,
      "id": "5a032154",
      "metadata": {
        "tags": [],
        "id": "5a032154",
        "outputId": "accd5811-1486-40b9-c48c-6778c7e8a4e7"
      },
      "outputs": [
        {
          "name": "stdout",
          "output_type": "stream",
          "text": [
            "/opt/tiger/Megatron-LM\n",
            "/opt/tiger/Megatron-LM/megatron/__init__.py\n"
          ]
        }
      ],
      "source": [
        "import sys\n",
        "\n",
        "current_pythonpath = os.environ.get(\"PYTHONPATH\", \"\")\n",
        "\n",
        "new_path = \"/opt/tiger/Megatron-LM\"\n",
        "\n",
        "new_pythonpath = f\"{new_path}:{current_pythonpath}\" if current_pythonpath else new_path\n",
        "\n",
        "os.environ[\"PYTHONPATH\"] = new_pythonpath\n",
        "\n",
        "print(new_path)\n",
        "sys.path.append(new_path)\n",
        "\n",
        "import megatron\n",
        "\n",
        "print(megatron.__file__)"
      ]
    },
    {
      "cell_type": "code",
      "execution_count": null,
      "id": "8c84cd5a",
      "metadata": {
        "tags": [],
        "id": "8c84cd5a"
      },
      "outputs": [],
      "source": [
        "from megatron.core import parallel_state as mpu\n",
        "from omegaconf import OmegaConf\n",
        "\n",
        "from verl.single_controller.base.decorator import Dispatch, Execute, register\n",
        "from verl.single_controller.base.megatron.worker import MegatronWorker\n",
        "from verl.single_controller.ray.base import RayClassWithInitArgs, RayResourcePool, RayWorkerGroup\n",
        "from verl.single_controller.ray.megatron import NVMegatronRayWorkerGroup"
      ]
    },
    {
      "cell_type": "code",
      "execution_count": null,
      "id": "1b1debcc",
      "metadata": {
        "tags": [],
        "id": "1b1debcc"
      },
      "outputs": [],
      "source": [
        "resource_pool = RayResourcePool([4], use_gpu=True, max_colocate_count=1)"
      ]
    },
    {
      "cell_type": "code",
      "execution_count": null,
      "id": "bccbe081",
      "metadata": {
        "tags": [],
        "id": "bccbe081"
      },
      "outputs": [],
      "source": [
        "@ray.remote\n",
        "class MLPLayerWorker(MegatronWorker):\n",
        "    def __init__(self):\n",
        "        super().__init__()\n",
        "        rank = int(os.environ[\"LOCAL_RANK\"])\n",
        "        torch.distributed.init_process_group(backend=\"nccl\")\n",
        "        torch.cuda.set_device(rank)\n",
        "\n",
        "        mpu.initialize_model_parallel(\n",
        "            tensor_model_parallel_size=4,\n",
        "            pipeline_model_parallel_size=1,\n",
        "            virtual_pipeline_model_parallel_size=None,\n",
        "            pipeline_model_parallel_split_rank=None,\n",
        "            use_sharp=False,\n",
        "            context_parallel_size=1,\n",
        "            expert_model_parallel_size=1,\n",
        "            nccl_communicator_config_path=None,\n",
        "        )\n",
        "        from megatron.core import tensor_parallel\n",
        "\n",
        "        tensor_parallel.model_parallel_cuda_manual_seed(10)\n",
        "\n",
        "    @register(Dispatch.ONE_TO_ALL)\n",
        "    def init_model(self, config):\n",
        "        from omegaconf import OmegaConf\n",
        "\n",
        "        from verl.models.llama.megatron.layers import ParallelLlamaMLP\n",
        "        from verl.utils.megatron_utils import init_model_parallel_config\n",
        "\n",
        "        megatron_config = OmegaConf.create(\n",
        "            {\n",
        "                \"sequence_parallel\": False,\n",
        "                \"param_dtype\": \"fp32\",\n",
        "                \"tensor_model_parallel_size\": mpu.get_tensor_model_parallel_world_size(),\n",
        "                \"pipeline_model_parallel_rank\": mpu.get_pipeline_model_parallel_rank(),\n",
        "                \"pipeline_model_parallel_size\": mpu.get_pipeline_model_parallel_world_size(),\n",
        "                \"virtual_pipeline_model_parallel_rank\": mpu.get_virtual_pipeline_model_parallel_rank(),\n",
        "                \"virtual_pipeline_model_parallel_size\": mpu.get_virtual_pipeline_model_parallel_world_size(),\n",
        "            }\n",
        "        )\n",
        "\n",
        "        megatron_config = init_model_parallel_config(megatron_config)\n",
        "        self.parallel_layer = ParallelLlamaMLP(config=config, megatron_config=megatron_config)\n",
        "\n",
        "    @register(Dispatch.ONE_TO_ALL)\n",
        "    def get_weights(self):\n",
        "        output = {}\n",
        "        for key, val in self.parallel_layer.named_parameters():\n",
        "            output[key] = val\n",
        "        return output\n",
        "\n",
        "    @register(Dispatch.MEGATRON_COMPUTE)\n",
        "    def run_layer(self, x):\n",
        "        x = x.to(\"cuda\")\n",
        "        y = self.parallel_layer(x)\n",
        "        return y"
      ]
    },
    {
      "cell_type": "code",
      "execution_count": null,
      "id": "a655271d",
      "metadata": {
        "tags": [],
        "id": "a655271d"
      },
      "outputs": [],
      "source": [
        "layer_cls = RayClassWithInitArgs(cls=MLPLayerWorker)\n",
        "layer_worker_group = NVMegatronRayWorkerGroup(\n",
        "    resource_pool=resource_pool,\n",
        "    ray_cls_with_init=layer_cls,\n",
        ")"
      ]
    },
    {
      "cell_type": "code",
      "execution_count": null,
      "id": "f105ebee",
      "metadata": {
        "tags": [],
        "id": "f105ebee",
        "outputId": "eb07cf08-05a2-4f8c-abe5-c3a825041f49"
      },
      "outputs": [
        {
          "name": "stdout",
          "output_type": "stream",
          "text": [
            "4 4 1 1\n"
          ]
        }
      ],
      "source": [
        "print(layer_worker_group.world_size, layer_worker_group.tp_size, layer_worker_group.pp_size, layer_worker_group.dp_size)"
      ]
    },
    {
      "cell_type": "code",
      "execution_count": null,
      "id": "38655091",
      "metadata": {
        "tags": [],
        "id": "38655091"
      },
      "outputs": [],
      "source": [
        "ffn_hidden_size = 11008\n",
        "batch_size = 16\n",
        "seq_len = 2048\n",
        "hidden_size = 4096\n",
        "\n",
        "config = OmegaConf.create(\n",
        "    {\n",
        "        \"hidden_size\": hidden_size,\n",
        "        \"intermediate_size\": ffn_hidden_size,\n",
        "        \"hidden_act\": \"silu\",\n",
        "        \"pretraining_tp\": 1,\n",
        "        \"tp\": layer_worker_group.tp_size,\n",
        "    }\n",
        ")"
      ]
    },
    {
      "cell_type": "code",
      "execution_count": null,
      "id": "a026efca",
      "metadata": {
        "tags": [],
        "id": "a026efca"
      },
      "outputs": [],
      "source": [
        "x = torch.rand(size=(seq_len, batch_size, hidden_size), dtype=torch.float32)"
      ]
    },
    {
      "cell_type": "code",
      "execution_count": null,
      "id": "f5fcaf13",
      "metadata": {
        "tags": [],
        "id": "f5fcaf13",
        "outputId": "c4bfabc7-a52e-4197-d314-66bce0e48b3e"
      },
      "outputs": [
        {
          "data": {
            "text/plain": [
              "[None, None, None, None]"
            ]
          },
          "execution_count": 179,
          "metadata": {},
          "output_type": "execute_result"
        }
      ],
      "source": [
        "layer_worker_group.init_model(config)"
      ]
    },
    {
      "cell_type": "code",
      "execution_count": null,
      "id": "3f5cc9b4",
      "metadata": {
        "tags": [],
        "id": "3f5cc9b4",
        "outputId": "4c48bcf6-4f66-4ff8-df47-f49e014f0a90"
      },
      "outputs": [
        {
          "name": "stdout",
          "output_type": "stream",
          "text": [
            "torch.Size([2048, 16, 4096])\n"
          ]
        }
      ],
      "source": [
        "output = layer_worker_group.run_layer(\n",
        "    [x]\n",
        ")  # This must be a list of size 1, ensuring that the input equals the data parallel (dp).\n",
        "print(output[0].shape)"
      ]
    },
    {
      "cell_type": "code",
      "execution_count": null,
      "id": "49792210",
      "metadata": {
        "tags": [],
        "id": "49792210"
      },
      "outputs": [],
      "source": [
        "# Shutdown ray cluster\n",
        "ray.shutdown()"
      ]
    }
  ],
  "metadata": {
    "kernelspec": {
      "display_name": "Python 3",
      "name": "python3"
    },
    "language_info": {
      "codemirror_mode": {
        "name": "ipython",
        "version": 3
      },
      "file_extension": ".py",
      "mimetype": "text/x-python",
      "name": "python",
      "nbconvert_exporter": "python",
      "pygments_lexer": "ipython3",
      "version": "3.9.2"
    },
    "colab": {
      "provenance": [],
      "gpuType": "A100"
    },
    "accelerator": "GPU"
  },
  "nbformat": 4,
  "nbformat_minor": 5
}